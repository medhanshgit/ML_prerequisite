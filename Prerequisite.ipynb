{
  "metadata": {
    "language_info": {
      "codemirror_mode": {
        "name": "python",
        "version": 3
      },
      "file_extension": ".py",
      "mimetype": "text/x-python",
      "name": "python",
      "nbconvert_exporter": "python",
      "pygments_lexer": "ipython3",
      "version": "3.8"
    },
    "kernelspec": {
      "name": "python",
      "display_name": "Python (Pyodide)",
      "language": "python"
    },
    "colab": {
      "provenance": []
    }
  },
  "nbformat_minor": 0,
  "nbformat": 4,
  "cells": [
    {
      "cell_type": "markdown",
      "source": [
        "## Prerequsite test\n",
        "#### 1. \n",
        "In the Matrix multiplication of a $(n,k)$ and $(k,m)$ matrix, the resultant matrix has $ nm $ entries. Hence the process used for one single element in the product matrix, has to be repeated $n*k$ times. For one element in the product matrix, we need to do k multiplications and k-1 additions. Hence total number of additions are $ n*k*(m-1) $ and number of multiplication are $ n*k*m $."
      ],
      "metadata": {
        "id": "kAqI7IJAJQRh"
      }
    },
    {
      "cell_type": "markdown",
      "source": [
        "#### 2. \n",
        "Using Lists of list:"
      ],
      "metadata": {
        "id": "hERoiPHvJQRj"
      }
    },
    {
      "cell_type": "code",
      "source": [
        "import timeit\n",
        "import random as rand\n",
        "import statistics\n",
        "\n",
        "n = int(input(\"Enter value of n\"))\n",
        "k = int(input(\"Enter value of k\"))\n",
        "m = int(input(\"Enter value of m\"))\n",
        "arr1 = [[rand.randint(0,100) for i in range(k)] for j in range(n)]\n",
        "arr2 = [[rand.randint(0,100) for t in range(m)] for l in range(k)]\n",
        "ans = [[0 for m in range(m)] for p in range(n)]\n",
        "\n",
        "def func(arr1,arr2,ans):\n",
        "  for i in range(n):\n",
        "    for j in range(m):\n",
        "        for l in range(k):\n",
        "            ans[i][j] += arr1[i][l]*arr2[l][j]\n",
        "  return\n",
        "\n",
        "time = timeit.repeat(lambda: func(arr1,arr2,ans), number=1000)\n",
        "\n",
        "mean_time = statistics.mean(time)\n",
        "median_time = statistics.median(time)\n",
        "mode_time = statistics.mode(time)\n",
        "std_dev = statistics.stdev(time)\n",
        "\n",
        "print(\"Mean time:\", mean_time)\n",
        "print(\"Median time:\", median_time)\n",
        "print(\"Mode time:\", mode_time)\n",
        "print(\"Standard deviation:\", std_dev)"
      ],
      "metadata": {
        "trusted": true,
        "colab": {
          "base_uri": "https://localhost:8080/"
        },
        "id": "2EMzhRsLJQRk",
        "outputId": "1554e8ef-def1-434f-e706-419d8a36170c"
      },
      "execution_count": null,
      "outputs": [
        {
          "output_type": "stream",
          "name": "stdout",
          "text": [
            "Enter value of n10\n",
            "Enter value of k10\n",
            "Enter value of m10\n",
            "Mean time: 0.2900986109999394\n",
            "Median time: 0.2854831109998486\n",
            "Mode time: 0.2841427929997735\n",
            "Standard deviation: 0.01102581187817426\n"
          ]
        }
      ]
    },
    {
      "cell_type": "markdown",
      "source": [
        "Using numpy:"
      ],
      "metadata": {
        "id": "LvPZxQRLJQRk"
      }
    },
    {
      "cell_type": "code",
      "source": [
        "import numpy as np\n",
        "import timeit\n",
        "import random as rand\n",
        "\n",
        "n = int(input(\"Enter value of n\"))\n",
        "k = int(input(\"Enter value of k\"))\n",
        "m = int(input(\"Enter value of m\"))\n",
        "arr1 = np.arange(n*k).reshape(n,k)\n",
        "arr2 = np.arange(m*k).reshape(k,m)\n",
        "def func(arr1,arr2):\n",
        "  result = np.dot(arr1,arr2)\n",
        "  return\n",
        "\n",
        "\n",
        "time = timeit.repeat(lambda: func(arr1,arr2), number=1000)\n",
        "\n",
        "mean_time = statistics.mean(time)\n",
        "median_time = statistics.median(time)\n",
        "mode_time = statistics.mode(time)\n",
        "std_dev = statistics.stdev(time)\n",
        "\n",
        "print(\"Mean time:\", mean_time)\n",
        "print(\"Median time:\", median_time)\n",
        "print(\"Mode time:\", mode_time)\n",
        "print(\"Standard deviation:\", std_dev)\n"
      ],
      "metadata": {
        "colab": {
          "base_uri": "https://localhost:8080/"
        },
        "id": "G7B0MLdjJQRl",
        "outputId": "cb7230af-2b27-4bcd-d4f7-2cfb4358bd01"
      },
      "execution_count": null,
      "outputs": [
        {
          "output_type": "stream",
          "name": "stdout",
          "text": [
            "Enter value of n10\n",
            "Enter value of k10\n",
            "Enter value of m10\n",
            "Mean time: 0.004528474799917604\n",
            "Median time: 0.004970742999830691\n",
            "Mode time: 0.005781236000075296\n",
            "Standard deviation: 0.0014258919924332771\n"
          ]
        }
      ]
    },
    {
      "cell_type": "markdown",
      "source": [
        "For small matrices, the iterative method is faster, while for the large matrices, numpy is faster.\n",
        "Numpy is faster because it integrates C in Python and C has smaller execution time than python so, Numpy can perfrom better than python code.\n",
        "Also numpy breaks tasks into smaller segments and runs them parallely, which in turn improves its performance. "
      ],
      "metadata": {
        "id": "u8414Xq-JQRl"
      }
    },
    {
      "cell_type": "markdown",
      "source": [
        "#### 3.\n",
        "For finding the highest element, one traversals required. for second largest 2 are required and so on. So for median element it depends on whether the number of elements are odd or even: \n",
        "<br>\n",
        "**n is odd**: median is the $ (\\frac{n}{2} + 1)^{th} $ element. It requires $ \\frac{n}{2} + 1$ traversals.\n",
        "<br>\n",
        "**n is even**: median is the average of the middle two elements, that is average of $ (\\frac{n}{2})^{th} $ and $ (\\frac{n}{2} + 1)^{th} $ element. It requires $ \\frac{n}{2} + 1$ passes.\n",
        "<br>\n",
        "Every traversal takes O(n) time, Therefore, time complexity of the algorithm is\n",
        "$ O(n)*O(\\frac{n}{2} + 1) = O(n^2)$\n",
        "<br>\n",
        "\n",
        "An optimized solution would be to sort the array first and then take out its middle element. The sorting takes $O(n\\log{n})$ and searching the miidle element will take $O(1)$ time. Hence total time complexity of this process is $O(n\\log{n})$.\n",
        "\n",
        "<br>"
      ],
      "metadata": {
        "id": "NZ6pt1jkcKEy"
      }
    },
    {
      "cell_type": "code",
      "source": [
        "## code for all 3 processes\n",
        "\n",
        "import timeit\n",
        "import random as rand\n",
        "import statistics\n",
        "import numpy as np\n",
        "\n",
        "arr = [rand.randint(0,10000) for i in range(1000)]\n",
        "l = len(arr)\n",
        "\n",
        "## code for iterative procedure\n",
        "def func_itr(arr):\n",
        "  visited = [0 for i in range(l)]\n",
        "  for i in range(l // 2 + 1):\n",
        "    index = 0\n",
        "    prev = 0\n",
        "    max = -1\n",
        "    for j in range(l):\n",
        "      if arr[j]>max and visited[j]==0:\n",
        "        prev = index\n",
        "        index = j\n",
        "        max = arr[j]\n",
        "    visited[index] == 1\n",
        "  if l%2 == 0:\n",
        "    median = (arr[index] + arr[prev])/2\n",
        "  else:\n",
        "    median = arr[index]\n",
        "  return median\n",
        "\n",
        "## code for optimized procedure (sorting)\n",
        "def func_opt(arr):\n",
        "  arr.sort()\n",
        "  if l%2 == 0:\n",
        "    median = (arr[l // 2 - 1] + arr[l // 2]) / 2\n",
        "  else:\n",
        "    median = arr[l // 2]\n",
        "  return median\n",
        "\n",
        "## code for numpy median method\n",
        "def func_np(arr):\n",
        "  median = np.median(arr)\n",
        "  return\n",
        "\n",
        "time_itr = timeit.repeat(lambda: func_itr(arr), number=1000)\n",
        "time_opt = timeit.repeat(lambda: func_opt(arr), number=1000)\n",
        "time_np = timeit.repeat(lambda: func_np(arr), number=1000)\n",
        "\n",
        "mean_time_itr = statistics.mean(time_itr)\n",
        "mean_time_opt = statistics.mean(time_opt)\n",
        "mean_time_np = statistics.mean(time_np)\n",
        "\n",
        "print(\"Mean time for iterative process:\", mean_time_itr)\n",
        "print(\"Mean time for optimized process:\", mean_time_opt)\n",
        "print(\"Mean time for numpy median :\", mean_time_np)\n",
        "\n",
        "\n"
      ],
      "metadata": {
        "colab": {
          "base_uri": "https://localhost:8080/"
        },
        "id": "JSNjcr1CguOu",
        "outputId": "7211796d-b5ba-4d5e-8e7f-c2fbfa45c72d"
      },
      "execution_count": null,
      "outputs": [
        {
          "output_type": "stream",
          "name": "stdout",
          "text": [
            "Mean time for iterative process: 34.978862900400415\n",
            "Mean time for optimized process: 0.0064175855994108135\n",
            "Mean time for numpy median : 0.11318778560053033\n"
          ]
        }
      ]
    },
    {
      "cell_type": "markdown",
      "source": [
        "From the above observation, iterative process is slower than the rest of the processes. Optimized solution does better than numpy median."
      ],
      "metadata": {
        "id": "bvBm-NtQ9xKZ"
      }
    },
    {
      "cell_type": "markdown",
      "source": [
        "#### 4. \n",
        "$ f = x^2y + y^3\\sin{x} $ \n",
        " <br>\n",
        "$ df/dx = 2xycos(x) + y^3cos(x) $, <br> $df/dy = x^2 + 3y^2*sin(x)$"
      ],
      "metadata": {
        "id": "noZyJB_RJQRl"
      }
    },
    {
      "cell_type": "markdown",
      "source": [
        "#### 5."
      ],
      "metadata": {
        "id": "-tdEBDi-JQRl"
      }
    },
    {
      "cell_type": "code",
      "source": [
        "import jax\n",
        "import jax.numpy as jnp\n",
        "import numpy as np\n",
        "from jax import grad\n",
        "\n",
        "def function(x, y):\n",
        "  return x**2 * y + y**3 * jnp.sin(x)\n",
        "\n",
        "grad_function = grad(function, argnums=(0, 1))\n",
        "\n",
        "x = [np.random.random()*10 for i in range(5)]\n",
        "y = [np.random.random()*10 for i in range(5)]\n",
        "\n",
        "analytical_gradient = []\n",
        "numerical_gradient = []\n",
        "for i in range(5):\n",
        "  analytical_gradient.append([2*x[i]*y[i] + y[i]**3*jnp.cos(x[i]), x[i]**2 + 3*y[i]**2*jnp.sin(x[i])])\n",
        "  numerical_gradient.append(grad_function(x[i], y[i]))\n",
        "\n",
        "print(x)\n",
        "print(y)\n",
        "print(analytical_gradient[0][0],analytical_gradient[1][0],analytical_gradient[2][0],analytical_gradient[3][0],analytical_gradient[4][0])\n",
        "print(numerical_gradient[0][0], numerical_gradient[1][0], numerical_gradient[2][0], numerical_gradient[3][0], numerical_gradient[4][0])\n"
      ],
      "metadata": {
        "trusted": true,
        "colab": {
          "base_uri": "https://localhost:8080/"
        },
        "id": "PoTDv9TFJQRm",
        "outputId": "68b5675d-e583-4c26-b8b6-f0a810b0efd0"
      },
      "execution_count": null,
      "outputs": [
        {
          "output_type": "stream",
          "name": "stdout",
          "text": [
            "[8.555326146239606, 0.07441911369880039, 3.3438624513490476, 5.085903955628485, 8.532587422467655]\n",
            "[5.285285000152934, 7.57033019697901, 7.702139314056867, 1.4984740623335557, 3.047649565408226]\n",
            "-4.8296585 433.78076 -396.0888 16.46994 34.24009\n",
            "-4.8296585 433.78076 -396.0888 16.469942 34.24009\n"
          ]
        }
      ]
    },
    {
      "cell_type": "markdown",
      "source": [
        "The gradient from analytical and numerical solution give results which are very close (equal in some cases), which helps in confirming our solution."
      ],
      "metadata": {
        "id": "R3xgcWaObsRH"
      }
    },
    {
      "cell_type": "markdown",
      "source": [
        "#### 6."
      ],
      "metadata": {
        "id": "wGeKIP5wMIn4"
      }
    },
    {
      "cell_type": "code",
      "source": [
        "import sympy as sym\n",
        "\n",
        "x, y = sym.symbols('x y')\n",
        "\n",
        "f = x**2 * y + y**3 * sym.sin(x)\n",
        "\n",
        "dx = sym.diff(f, x)\n",
        "dy = sym.diff(f, y)\n",
        "\n",
        "print(\"df/dx =\",dx)\n",
        "print(\"df/dy =\",dy)"
      ],
      "metadata": {
        "colab": {
          "base_uri": "https://localhost:8080/"
        },
        "id": "Z4wHZOeWMN1G",
        "outputId": "3388ebf2-00d6-4658-ee55-ca17586b123e"
      },
      "execution_count": null,
      "outputs": [
        {
          "output_type": "stream",
          "name": "stdout",
          "text": [
            "df/dx = 2*x*y + y**3*cos(x)\n",
            "df/dy = x**2 + 3*y**2*sin(x)\n"
          ]
        }
      ]
    },
    {
      "cell_type": "markdown",
      "source": [
        "#### 7."
      ],
      "metadata": {
        "id": "rikDOMf7JQRn"
      }
    },
    {
      "cell_type": "code",
      "source": [
        "\n",
        "nested_dictionary = {\"2022\": {\"Branch 1\": {\"1\":{\"Roll Number\": 1, \"Name\": \"Alice\", \"Marks\": { \"Maths\": 100, \"English\": 70 }}}, \n",
        "                              \"Branch 2\": {\"1\":{\"Roll Number\": 2, \"Name\": \"Bob\", \"Marks\": { \"Maths\": 100, \"English\": 80 }},\n",
        "                                           \"2\":{\"Roll Number\": 13, \"Name\": \"Charlie\", \"Marks\": { \"Maths\": 80, \"English\": 70 }}\n",
        "                                           }\n",
        "                              },\n",
        "                        \"2023\": {\"Branch 1\": {},\"Branch 2\": {}},\n",
        "                        \"2024\": {\"Branch 1\": {},\"Branch 2\": {}},\n",
        "                        \"2025\": {\"Branch 1\": {},\"Branch 2\": {}}\n",
        "                     }"
      ],
      "metadata": {
        "id": "-CPQ7E0SJQRn"
      },
      "execution_count": null,
      "outputs": []
    },
    {
      "cell_type": "markdown",
      "source": [
        "#### 8."
      ],
      "metadata": {
        "id": "lSv612f9JQRn"
      }
    },
    {
      "cell_type": "code",
      "source": [
        " \n",
        "class Year:\n",
        "    def __init__(self, year, branch):\n",
        "        self.year = year\n",
        "        self.branch = branch\n",
        "\n",
        "class Branch:\n",
        "    def __init__(self, name, students):\n",
        "        self.name = name\n",
        "        self.students = students\n",
        "\n",
        "class Student:\n",
        "    def __init__(self, roll_no, name, marks):\n",
        "        self.roll_no = roll_no\n",
        "        self.name = name\n",
        "        self.marks = marks\n",
        "\n",
        "database = [\n",
        "    Year(2022, [\n",
        "        Branch('Branch 1', [Student(1, 'Alice', {'Maths': 100, 'English': 70})]),\n",
        "        Branch('Branch 2', [Student(2, 'Bob', {'Maths': 100, 'English': 80}),\n",
        "                            Student(13, 'Charlie', {'Maths': 80, 'English': 70})])\n",
        "    ]),\n",
        "\n",
        "    Year(2023, [\n",
        "        Branch('Branch 1', []),\n",
        "        Branch('Branch 2', [])\n",
        "    ]),\n",
        "    \n",
        "    Year(2024, [\n",
        "        Branch('Branch 1', []),\n",
        "        Branch('Branch 2', [])\n",
        "    ]),\n",
        "    Year(2025, [\n",
        "        Branch('Branch 1', []),\n",
        "        Branch('Branch 2', [])\n",
        "    ]),\n",
        "]\n",
        "\n",
        "print(database[0].branch[0].students[0].name)\n",
        "print(database[0].branch[1].students[0].name)\n",
        "print(database[0].branch[1].students[1].name)\n",
        "print(database[0].year)\n",
        "print(database[1].year)\n"
      ],
      "metadata": {
        "colab": {
          "base_uri": "https://localhost:8080/"
        },
        "id": "B9OWRyknJQRn",
        "outputId": "98037fff-849d-4076-a8c6-5bfccb6f65cb"
      },
      "execution_count": null,
      "outputs": [
        {
          "output_type": "stream",
          "name": "stdout",
          "text": [
            "Alice\n",
            "Bob\n",
            "Charlie\n",
            "2022\n",
            "2023\n"
          ]
        }
      ]
    },
    {
      "cell_type": "markdown",
      "source": [
        "#### 9."
      ],
      "metadata": {
        "id": "FMw_nN1jJQRn"
      }
    },
    {
      "cell_type": "code",
      "source": [
        "#1) \n",
        "import matplotlib.pyplot as plt\n",
        "import numpy as np\n",
        "\n",
        "x = list(np.arange(0.5,100.0,0.5))\n",
        "# x = list(np.linspace(0.5,100.0,num=50,endpoint=True))\n",
        "\n",
        "y = x\n",
        "\n",
        "plt.title('y=x')\n",
        "plt.plot(x, y)\n",
        "plt.show()\n",
        "\n",
        "#2)\n",
        "import matplotlib.pyplot as plt\n",
        "import numpy as np\n",
        "\n",
        "x = list(np.arange(0.5,100.0,0.5))\n",
        "# x = list(np.linspace(0.5,100.0,num=50,endpoint=True))\n",
        "\n",
        "y = [x**2 for x in x]\n",
        "\n",
        "plt.title('y=x^2')\n",
        "plt.plot(x, y)\n",
        "plt.show()\n",
        "\n",
        "#3)\n",
        "import matplotlib.pyplot as plt\n",
        "import numpy as np\n",
        "\n",
        "x = list(np.arange(0.5,100.0,0.5))\n",
        "# x = list(np.linspace(0.5,100.0,num=50,endpoint=True))\n",
        "\n",
        "y = [x**3/100 for x in x]\n",
        "\n",
        "plt.title('y=x^3/100')\n",
        "plt.plot(x, y)\n",
        "plt.show()\n",
        "\n",
        "#4)\n",
        "import matplotlib.pyplot as plt\n",
        "import numpy as np\n",
        "\n",
        "x = list(np.arange(0.5,100.0,0.5))\n",
        "# x = list(np.linspace(0.5,100.0,num=50,endpoint=True))\n",
        "\n",
        "y = [np.sin(x) for x in x]\n",
        "\n",
        "plt.title('y=sin(x)')\n",
        "plt.plot(x, y)\n",
        "plt.show()\n",
        "\n",
        "#5)\n",
        "import matplotlib.pyplot as plt\n",
        "import numpy as np\n",
        "\n",
        "x = list(np.arange(0.5,100.0,0.5))\n",
        "# x = list(np.linspace(0.5,100.0,num=50,endpoint=True))\n",
        "\n",
        "y = [np.sin(x)/x for x in x]\n",
        "\n",
        "plt.title('y=sin(x)/x')\n",
        "plt.plot(x, y)\n",
        "plt.show()\n",
        "\n",
        "#6)\n",
        "import matplotlib.pyplot as plt\n",
        "import numpy as np\n",
        "\n",
        "x = list(np.arange(0.5,100.0,0.5))\n",
        "# x = list(np.linspace(0.5,100.0,num=50,endpoint=True))\n",
        "\n",
        "y = [np.log(x) for x in x]\n",
        "\n",
        "plt.title('y=log(x)')\n",
        "plt.plot(x, y)\n",
        "plt.show()\n",
        "\n",
        "#7)\n",
        "import matplotlib.pyplot as plt\n",
        "import numpy as np\n",
        "\n",
        "x = list(np.arange(0.5,100.0,0.5))\n",
        "# x = list(np.linspace(0.5,100.0,num=50,endpoint=True))\n",
        "\n",
        "y = [np.exp(x) for x in x]\n",
        "\n",
        "plt.title('y=exp(x)')\n",
        "plt.plot(x, y)\n",
        "plt.show()"
      ],
      "metadata": {
        "trusted": true,
        "colab": {
          "base_uri": "https://localhost:8080/",
          "height": 1000
        },
        "id": "RkhLzOdnJQRo",
        "outputId": "4e386969-5585-440f-c762-a35d91bc380f"
      },
      "execution_count": null,
      "outputs": [
        {
          "output_type": "display_data",
          "data": {
            "text/plain": [
              "<Figure size 432x288 with 1 Axes>"
            ],
            "image/png": "[encoded data removed]"
          },
          "metadata": {
            "needs_background": "light"
          }
        },
        {
          "output_type": "display_data",
          "data": {
            "text/plain": [
              "<Figure size 432x288 with 1 Axes>"
            ],
            "image/png": "[encoded data removed]"
          },
          "metadata": {
            "needs_background": "light"
          }
        },
        {
          "output_type": "display_data",
          "data": {
            "text/plain": [
              "<Figure size 432x288 with 1 Axes>"
            ],
            "image/png": "[encoded data removed]"
          },
          "metadata": {
            "needs_background": "light"
          }
        },
        {
          "output_type": "display_data",
          "data": {
            "text/plain": [
              "<Figure size 432x288 with 1 Axes>"
            ],
            "image/png": "[encoded data removed]"
          },
          "metadata": {
            "needs_background": "light"
          }
        },
        {
          "output_type": "display_data",
          "data": {
            "text/plain": [
              "<Figure size 432x288 with 1 Axes>"
            ],
            "image/png": "[encoded data removed]"
          },
          "metadata": {
            "needs_background": "light"
          }
        },
        {
          "output_type": "display_data",
          "data": {
            "text/plain": [
              "<Figure size 432x288 with 1 Axes>"
            ],
            "image/png": "[encoded data removed]"
          },
          "metadata": {
            "needs_background": "light"
          }
        },
        {
          "output_type": "display_data",
          "data": {
            "text/plain": [
              "<Figure size 432x288 with 1 Axes>"
            ],
            "image/png": "[encoded data removed]"
          },
          "metadata": {
            "needs_background": "light"
          }
        }
      ]
    },
    {
      "cell_type": "markdown",
      "source": [
        "#### 10."
      ],
      "metadata": {
        "id": "hOtC93VTJQRo"
      }
    },
    {
      "cell_type": "code",
      "source": [
        "import numpy as np\n",
        "import pandas as pd\n",
        "\n",
        "matrix = np.random.uniform(1, 2, size=(20, 5))\n",
        "dataframe = pd.DataFrame(matrix, columns=['a', 'b', 'c', 'd', 'e'])\n",
        "column_std = dataframe.std().idxmax()\n",
        "row_mean = dataframe.mean(axis=1).idxmin()\n",
        "print(matrix)\n",
        "print(f'Column with highest standard deviation: {column_std}')\n",
        "print(f'Row with lowest mean: {row_mean}')"
      ],
      "metadata": {
        "trusted": true,
        "colab": {
          "base_uri": "https://localhost:8080/"
        },
        "id": "J_YDR-V-JQRp",
        "outputId": "ecff0041-84f1-44a3-fe62-6fdc046a2d89"
      },
      "execution_count": null,
      "outputs": [
        {
          "output_type": "stream",
          "name": "stdout",
          "text": [
            "[[1.23912931 1.85259165 1.13109569 1.54710717 1.32517501]\n",
            " [1.27588582 1.96883064 1.49178589 1.38827794 1.07218852]\n",
            " [1.90154667 1.9272365  1.34699062 1.26173404 1.75513221]\n",
            " [1.46403482 1.82724841 1.09242765 1.89603168 1.48091943]\n",
            " [1.08780846 1.3717217  1.33361614 1.16447649 1.16949828]\n",
            " [1.15929025 1.86009506 1.13996833 1.59423578 1.24331399]\n",
            " [1.536472   1.0628042  1.20393754 1.85174112 1.98172141]\n",
            " [1.70058957 1.40243744 1.87283088 1.16707605 1.94696374]\n",
            " [1.81453924 1.92352539 1.8007972  1.64952364 1.02834171]\n",
            " [1.08011379 1.99932809 1.01268766 1.11071705 1.86482013]\n",
            " [1.53709191 1.07507775 1.49238428 1.12452823 1.83551852]\n",
            " [1.58889538 1.15584179 1.30139364 1.08199834 1.23425765]\n",
            " [1.60032169 1.04684398 1.99259271 1.82676632 1.33844443]\n",
            " [1.04979465 1.96297486 1.34890383 1.1215295  1.49907819]\n",
            " [1.01209143 1.55261148 1.17377488 1.47272934 1.62940035]\n",
            " [1.11701724 1.32877917 1.44087186 1.05079419 1.28525807]\n",
            " [1.06779682 1.70137448 1.9940003  1.78965054 1.35966469]\n",
            " [1.71860076 1.25209868 1.2066519  1.60353246 1.98649292]\n",
            " [1.23474679 1.50041608 1.72137261 1.24266412 1.05775444]\n",
            " [1.03772089 1.59703069 1.87842334 1.83566254 1.4559744 ]]\n",
            "Column with highest standard deviation: b\n",
            "Row with lowest mean: 4\n"
          ]
        }
      ]
    },
    {
      "cell_type": "markdown",
      "source": [
        "#### 11."
      ],
      "metadata": {
        "id": "4eQAsQ7CJQRp"
      }
    },
    {
      "cell_type": "code",
      "source": [
        "dataframe['f'] = dataframe['a'] + dataframe['b'] + dataframe['c'] + dataframe['d'] + dataframe['e']\n",
        "# dataframe = dataframe.assign(g=np.where(dataframe['f'] < 8, 'LT8', 'GT8'))\n",
        "dataframe['g'] = np.where(dataframe['f']<8,'LT8','GT8')\n",
        "\n",
        "num_rows = dataframe.loc[dataframe['g'] == 'LT8', 'g'].count()\n",
        "print(f'Number of rows where the value in the column \"g\" is \"LT8\": {num_rows}')\n",
        "\n",
        "std_fg_lt8 = dataframe.loc[dataframe['g'] == 'LT8', 'f'].std()\n",
        "print(f'Standard deviation of the column \"f\" for rows where the value in the column \"g\" is \"LT8\": {std_fg_lt8:.2f}')\n",
        "\n",
        "std_fg_gt8 = dataframe.loc[dataframe['g'] == 'GT8', 'f'].std()\n",
        "print(f'Standard deviation of the column \"f\" for rows where the value in the column \"g\" is \"GT8\": {std_fg_gt8:.2f}')\n"
      ],
      "metadata": {
        "trusted": true,
        "colab": {
          "base_uri": "https://localhost:8080/"
        },
        "id": "mR6Qpur_JQRp",
        "outputId": "af595d47-3699-4bf7-d3a2-2f88305d0968"
      },
      "execution_count": null,
      "outputs": [
        {
          "output_type": "stream",
          "name": "stdout",
          "text": [
            "Number of rows where the value in the column \"g\" is \"LT8\": 17\n",
            "Standard deviation of the column \"f\" for rows where the value in the column \"g\" is \"LT8\": 0.57\n",
            "Standard deviation of the column \"f\" for rows where the value in the column \"g\" is \"GT8\": 0.07\n"
          ]
        }
      ]
    },
    {
      "cell_type": "markdown",
      "source": [
        "#### 12. \n",
        "Numpy uses broadcasting when it encounters arrays with different dimensions. the smaller array is broadcasted to larger array so that they have compatible shapes. For example, "
      ],
      "metadata": {
        "id": "4nwmtm-hJQRp"
      }
    },
    {
      "cell_type": "code",
      "source": [
        "import numpy as np\n",
        "\n",
        "# 2D array with shape (4,3)\n",
        "a = np.array([[1, 2, 3], [4, 5, 6], [7, 8, 9], [10, 11, 12]])\n",
        "print('shape of a:',a.shape)\n",
        "\n",
        "# 1D array with shape (3,)\n",
        "b = np.array([13, 14, 15])\n",
        "print('shape of b:',b.shape)\n",
        "\n",
        "# b will be broadcasted to the shape of a so that the arithmetic operation can be performed. \n",
        "# b will be stretched such that b = [[13, 14, 15],[13, 14, 15],[13, 14, 15],[13, 14, 15]]\n",
        "c = a + b\n",
        "print(\"c:\",c)"
      ],
      "metadata": {
        "trusted": true,
        "colab": {
          "base_uri": "https://localhost:8080/"
        },
        "id": "o5AGQgm3JQRp",
        "outputId": "b1d1729c-7b8d-4946-f188-124bacf192da"
      },
      "execution_count": null,
      "outputs": [
        {
          "output_type": "stream",
          "name": "stdout",
          "text": [
            "shape of a: (4, 3)\n",
            "shape of b: (3,)\n",
            "c: [[14 16 18]\n",
            " [17 19 21]\n",
            " [20 22 24]\n",
            " [23 25 27]]\n"
          ]
        }
      ]
    },
    {
      "cell_type": "markdown",
      "source": [
        "From output, we can see that 1D array b is broadcasted to make it a 2D array, so that it becomes compatible for addition with a."
      ],
      "metadata": {
        "id": "gk8gJ-9aJQRq"
      }
    },
    {
      "cell_type": "markdown",
      "source": [
        "#### 13."
      ],
      "metadata": {
        "id": "L0zH67r8JQRq"
      }
    },
    {
      "cell_type": "code",
      "source": [
        "## function to find the index of the minimum element of the array\n",
        "\n",
        "import numpy as np\n",
        "\n",
        "def func_argmin(arr):\n",
        "    # the np.min finds the minimum value of the array and returns it\n",
        "    min = np.min(arr)\n",
        "    # The np.where function returns a tuple of indices, so we need to extract the first element of the first element of the tuple using [0][0].\n",
        "    index = np.where(arr == min)[0][0]\n",
        "    return index\n",
        "\n",
        "arr = np.array([7, 13, 15, 53, 1, -9, 485783457, 87])\n",
        "\n",
        "check_index = np.argmin(arr)\n",
        "\n",
        "print(func_argmin(arr))\n",
        "print(func_argmin(arr) == check_index)"
      ],
      "metadata": {
        "colab": {
          "base_uri": "https://localhost:8080/"
        },
        "id": "_OE7KAA0JQRq",
        "outputId": "159c9c92-caaa-40f3-a515-3e1320146475"
      },
      "execution_count": null,
      "outputs": [
        {
          "output_type": "stream",
          "name": "stdout",
          "text": [
            "5\n",
            "True\n"
          ]
        }
      ]
    }
  ]
}